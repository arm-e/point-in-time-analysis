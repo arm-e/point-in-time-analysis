{
 "cells": [
  {
   "attachments": {},
   "cell_type": "markdown",
   "metadata": {},
   "source": [
    "Generate datasets that would represent the timeline from initially contacting a creator\n",
    "to completing their campaign. This is represented via \"tickets\" where each creator-employee pair\n",
    "would have a ticket with an associated start and end timestamp."
   ]
  },
  {
   "cell_type": "code",
   "execution_count": 85,
   "metadata": {},
   "outputs": [],
   "source": [
    "import datetime\n",
    "import pandas as pd\n",
    "import random\n",
    "import names\n",
    "random.seed(1) # To maintain the same results every time"
   ]
  },
  {
   "cell_type": "code",
   "execution_count": 86,
   "metadata": {},
   "outputs": [],
   "source": [
    "# (MIN, MAX) number of days each department may take to complete\n",
    "DEPARTMENT_CONFIG = dict(\n",
    "    SALES=dict(\n",
    "        min_max=(2, 30),\n",
    "        n_emp=10\n",
    "    ),\n",
    "    CONTRACT=dict(\n",
    "        min_max=(1,5),\n",
    "        n_emp=3\n",
    "        ),\n",
    "    DESIGN=dict(\n",
    "        min_max=(10,50),\n",
    "        n_emp=15\n",
    "        ),\n",
    "    MANUFACTURING=dict(\n",
    "        min_max=(10,40),\n",
    "        n_emp=4\n",
    "        ),\n",
    "    CAMPAIGN=dict(\n",
    "        min_max=(21,25),\n",
    "        n_emp=3\n",
    "        )\n",
    ")\n",
    "\n",
    "N_CREATORS = 700\n",
    "START_DATE = datetime.datetime.fromisoformat('2019-01-01') # Day company started\n",
    "END_DATE = datetime.datetime.now() # Last day available"
   ]
  },
  {
   "cell_type": "code",
   "execution_count": 87,
   "metadata": {},
   "outputs": [],
   "source": [
    "def create_names(n):\n",
    "    \"\"\"Create n random names.\"\"\"\n",
    "    return [names.get_full_name() for x in range(n)]\n",
    "\n",
    "def get_random_date():\n",
    "    \"\"\"Returns a random datetime between two datetime objects.\"\"\"\n",
    "    delta = END_DATE - START_DATE\n",
    "    int_delta = (delta.days * 24 * 60 * 60) + delta.seconds\n",
    "    random_second = random.randrange(int_delta)\n",
    "    return START_DATE + datetime.timedelta(seconds=random_second)"
   ]
  },
  {
   "cell_type": "code",
   "execution_count": 92,
   "metadata": {},
   "outputs": [],
   "source": [
    "def create_creator_table():\n",
    "    \"Create creators.csv\"\n",
    "    creator_names = create_names(N_CREATORS)\n",
    "    df = pd.DataFrame()\n",
    "    df['Creator'] = creator_names\n",
    "    df.to_csv(\"./resources/creators.csv\")\n",
    "    return df\n",
    "\n",
    "def create_employee_table():\n",
    "    \"Create employees.csv\"\n",
    "    dfs = []\n",
    "    for department, info in DEPARTMENT_CONFIG.items():\n",
    "        df = pd.DataFrame()\n",
    "        df[\"Name\"] = create_names(info['n_emp'])\n",
    "        df[\"Department\"] = [department]*df.shape[0]\n",
    "        dfs.append(df)\n",
    "    \n",
    "    dfs = pd.concat(dfs).reset_index(drop=True)\n",
    "    dfs.to_csv(\"./resources/employees.csv\")\n",
    "    return dfs\n",
    "\n",
    "def create_department_table(previous_department_data, min_max, employees, department_name, creators):\n",
    "    \"\"\"Create [DEPARTMENT].csv\"\"\"\n",
    "    if previous_department_data is None:    \n",
    "        df = pd.DataFrame()\n",
    "        df['Creator'] = creators['Creator']\n",
    "        df['start_date'] = df['Creator'].apply(lambda x: get_random_date())\n",
    "    \n",
    "    else:\n",
    "        previous_department_data = previous_department_data[~previous_department_data[\"end_date\"].isnull()]\n",
    "        df = previous_department_data\n",
    "        df['start_date'] = df['end_date']\n",
    "\n",
    "    df = df.sort_values(\"start_date\").reset_index(drop=True)\n",
    "\n",
    "    e_list = []\n",
    "    for employee in employees['Name']:\n",
    "        e_list += [employee]*(int(df.shape[0]/employees.shape[0] + 1))\n",
    "    random.shuffle(e_list)\n",
    "    df['Employee'] = e_list[:df.shape[0]]\n",
    "\n",
    "    df['end_date'] = df['start_date'].apply(lambda x: x+datetime.timedelta(days=random.randrange(*min_max)))\n",
    "    proportion_incomplete = random.uniform(0.9,0.95) # % of creators who are still at this step\n",
    "    df['end_date'] = [x if i <= int(proportion_incomplete*df.shape[0]) else None for i, x in enumerate(df['end_date'])]\n",
    "\n",
    "    df.to_csv(f\"./intermediates/{department_name}.csv\")\n",
    "    return df\n"
   ]
  },
  {
   "cell_type": "code",
   "execution_count": 93,
   "metadata": {},
   "outputs": [
    {
     "name": "stderr",
     "output_type": "stream",
     "text": [
      "/tmp/ipykernel_738/3388390828.py:32: SettingWithCopyWarning: \n",
      "A value is trying to be set on a copy of a slice from a DataFrame.\n",
      "Try using .loc[row_indexer,col_indexer] = value instead\n",
      "\n",
      "See the caveats in the documentation: https://pandas.pydata.org/pandas-docs/stable/user_guide/indexing.html#returning-a-view-versus-a-copy\n",
      "  df['start_date'] = df['end_date']\n"
     ]
    }
   ],
   "source": [
    "def main():\n",
    "    \"\"\"\n",
    "    Iterate over departments and create random end timestamps \n",
    "    for each creator.\n",
    "    \"\"\"\n",
    "    creators = create_creator_table()\n",
    "    employees = create_employee_table()\n",
    "\n",
    "    previous_department_data = None\n",
    "    for department, info in DEPARTMENT_CONFIG.items():\n",
    "        department_employees = employees[employees[\"Department\"] == department]\n",
    "        department_data = create_department_table(previous_department_data, info[\"min_max\"], department_employees, department, creators)\n",
    "        previous_department_data = department_data\n",
    "main()"
   ]
  },
  {
   "cell_type": "code",
   "execution_count": null,
   "metadata": {},
   "outputs": [],
   "source": []
  }
 ],
 "metadata": {
  "kernelspec": {
   "display_name": "makeship-GFt_hXW0",
   "language": "python",
   "name": "python3"
  },
  "language_info": {
   "codemirror_mode": {
    "name": "ipython",
    "version": 3
   },
   "file_extension": ".py",
   "mimetype": "text/x-python",
   "name": "python",
   "nbconvert_exporter": "python",
   "pygments_lexer": "ipython3",
   "version": "3.10.6 (main, Nov  2 2022, 18:53:38) [GCC 11.3.0]"
  },
  "orig_nbformat": 4,
  "vscode": {
   "interpreter": {
    "hash": "fbd4ebf1924932aa2cdabefa9c251b992b9cf79e8c50a1fb7951bbdad8f39ba2"
   }
  }
 },
 "nbformat": 4,
 "nbformat_minor": 2
}
